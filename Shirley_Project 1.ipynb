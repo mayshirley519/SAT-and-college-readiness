{
 "cells": [
  {
   "cell_type": "markdown",
   "metadata": {},
   "source": [
    "<img src=\"http://imgur.com/1ZcRyrc.png\" style=\"float: left; margin: 20px; height: 55px\">\n",
    "\n",
    "# Project 1: Standardized Test Analysis"
   ]
  },
  {
   "cell_type": "markdown",
   "metadata": {},
   "source": [
    "## Problem Statement"
   ]
  },
  {
   "cell_type": "markdown",
   "metadata": {},
   "source": [
    "* This project aims to find trends in the SAT scores to determine if Covid-19 has any impact on SAT performances and if colleges should continue to use SAT as an indicator for college readiness. "
   ]
  },
  {
   "cell_type": "markdown",
   "metadata": {},
   "source": [
    "### Contents:\n",
    "- [Background](#Background)\n",
    "- [Data Import & Cleaning](#Data-Import-and-Cleaning)\n",
    "- [Exploratory Data Analysis](#Exploratory-Data-Analysis)\n",
    "- [Data Visualization](#Visualize-the-Data)\n",
    "- [Conclusions and Recommendations](#Conclusions-and-Recommendations)"
   ]
  },
  {
   "cell_type": "markdown",
   "metadata": {},
   "source": [
    "## Background"
   ]
  },
  {
   "cell_type": "markdown",
   "metadata": {},
   "source": [
    "The SAT and ACT are standardized tests that many colleges and universities in the United States require for their admissions process. This score is used along with other materials such as grade point average (GPA) and essay responses to determine whether or not a potential student will be accepted to the university.\n",
    "\n",
    "The SAT has two sections of the test: Evidence-Based Reading and Writing and Math ([*source*](https://www.princetonreview.com/college/sat-sections)). The ACT has 4 sections: English, Mathematics, Reading, and Science, with an additional optional writing section ([*source*](https://www.act.org/content/act/en/products-and-services/the-act/scores/understanding-your-scores.html)). They have different score ranges, which you can read more about on their websites or additional outside sources (a quick Google search will help you understand the scores for each test):\n",
    "* [SAT](https://collegereadiness.collegeboard.org/sat)\n",
    "* [ACT](https://www.act.org/content/act/en.html)\n",
    "\n",
    "Standardized tests have long been a controversial topic for students, administrators, and legislators. Since the 1940's, an increasing number of colleges have been using scores from sudents' performances on tests like the SAT and the ACT as a measure for college readiness and aptitude ([*source*](https://www.minotdailynews.com/news/local-news/2017/04/a-brief-history-of-the-sat-and-act/)). Supporters of these tests argue that these scores can be used as an objective measure to determine college admittance. Opponents of these tests claim that these tests are not accurate measures of students potential or ability and serve as an inequitable barrier to entry. Lately, more and more schools are opting to drop the SAT/ACT requirement for their Fall 2021 applications ([*read more about this here*](https://www.cnn.com/2020/04/14/us/coronavirus-colleges-sat-act-test-trnd/index.html))."
   ]
  },
  {
   "cell_type": "markdown",
   "metadata": {},
   "source": [
    "Due to the impact of Covid-19, an infectious virus that is sister of the SARS virus, forced a near-total shutdown for schools in the United States around spring of 2020. For example, all schools in Maryland were orederd by officals to close since March 2020, and through the rest of the 2020 academic year. September 8, 2020, schools in Maryland were only allowed to open virtually, and most schools implemented virtual or hybrid learning. March 1, 2021 is when Maryland Governer Larry Hogan encoraged schools across the state to return students to the classroom. ([*source*](https://www.edweek.org/leadership/map-coronavirus-and-school-closures-in-2019-2020/2020/03))"
   ]
  },
  {
   "cell_type": "markdown",
   "metadata": {},
   "source": [
    "### Choose your Data\n",
    "\n",
    "* [`sat_2017.csv`](./data/sat_2017.csv): 2017 SAT scores by State\n",
    "* [`sat_2018.csv`](./data/sat_2018.csv): 2018 SAT Scores by State\n",
    "* [`sat_2019.csv`](./data/sat_2019.csv): 2019 SAT Scores by State\n"
   ]
  },
  {
   "cell_type": "markdown",
   "metadata": {},
   "source": [
    "### Outside Research"
   ]
  },
  {
   "cell_type": "markdown",
   "metadata": {},
   "source": [
    "College Board: The 2021 SAT Suite of Assessments Annual Reports ([*source*](https://research.collegeboard.org/programs/sat/data/2021-sat-suite-annual-report))"
   ]
  },
  {
   "cell_type": "markdown",
   "metadata": {},
   "source": [
    "* [`2017_delaware.pdf`](./data/2017_delaware.pds): 2017 SAT Suite of Assessments Annual Report Delaware ([*link*](https://reports.collegeboard.org/pdf/2017-delaware-sat-suite-assessments-annual-report.pdf ))\n",
    "* [`2018_delaware.pdf`](./data/2018_delaware.pds): 2018 SAT Suite of Assessments Annual Report Delaware ([*link*](https://reports.collegeboard.org/pdf/2018-delaware-sat-suite-assessments-annual-report.pdf ))\n",
    "* [`2019_delaware.pdf`](./data/2019_delaware.pds): 2019 SAT Suite of Assessments Annual Report Delaware ([*link*](https://reports.collegeboard.org/pdf/2019-delaware-sat-suite-assessments-annual-report.pdf ))\n",
    "* [`2020_delaware.pdf`](./data/2020_delaware.pds): 2020 SAT Suite of Assessments Annual Report Delaware ([*link*](https://reports.collegeboard.org/pdf/2020-delaware-sat-suite-assessments-annual-report.pdf ))\n",
    "* [`2021_delaware.pdf`](./data/2021_delaware.pds): 2021 SAT Suite of Assessments Annual Report Delaware ([*link*](https://reports.collegeboard.org/pdf/2021-delaware-sat-suite-assessments-annual-report.pdf ))\n",
    "* [`2020_connecticut.pdf`](./data/2020_connecticut.pds): 2020 SAT Suite of Assessments Annual Report Connecticut ([*link*](https://reports.collegeboard.org/pdf/2020-connecticut-sat-suite-assessments-annual-report.pdf ))\n",
    "* [`2021_connecticut.pdf`](./data/2021_connecticut.pds): 2021 SAT Suite of Assessments Annual Report Connecticut ([*link*](https://reports.collegeboard.org/pdf/2021-connecticut-sat-suite-assessments-annual-report.pdf ))\n",
    " * [`2020_michigan.pdf`](./data/2020_michigan.pds): 2020 SAT Suite of Assessments Annual Report Michigan ([*link*](https://reports.collegeboard.org/pdf/2020-michigan-sat-suite-assessments-annual-report.pdf ))\n",
    "  * [`2021_michigan.pdf`](./data/2021_michigan.pds): 2021 SAT Suite of Assessments Annual Report Michigan ([*link*](https://reports.collegeboard.org/pdf/2021-michigan-sat-suite-assessments-annual-report.pdf ))"
   ]
  },
  {
   "cell_type": "markdown",
   "metadata": {},
   "source": [
    "### Coding Challenges\n",
    "\n",
    "1. Manually calculate mean:\n",
    "\n",
    "    Write a function that takes in values and returns the mean of the values. Create a list of numbers that you test on your function to check to make sure your function works!\n",
    "    \n",
    "    *Note*: Do not use any mean methods built-in to any Python libraries to do this! This should be done without importing any additional libraries."
   ]
  },
  {
   "cell_type": "code",
   "execution_count": 1,
   "metadata": {},
   "outputs": [
    {
     "data": {
      "text/plain": [
       "3.0"
      ]
     },
     "execution_count": 1,
     "metadata": {},
     "output_type": "execute_result"
    }
   ],
   "source": [
    "# Code:\n",
    "def calc_mean(numbers):\n",
    "    sum_num = 0\n",
    "    for num in numbers:\n",
    "        sum_num += num\n",
    "    return sum_num / len(numbers)\n",
    "    \n",
    "calc_mean([1, 2, 3, 4, 5])"
   ]
  },
  {
   "cell_type": "markdown",
   "metadata": {},
   "source": [
    "2. Manually calculate standard deviation:\n",
    "\n",
    "    The formula for standard deviation is below:\n",
    "\n",
    "    $$\\sigma = \\sqrt{\\frac{1}{n}\\sum_{i=1}^n(x_i - \\mu)^2}$$\n",
    "\n",
    "    Where $x_i$ represents each value in the dataset, $\\mu$ represents the mean of all values in the dataset and $n$ represents the number of values in the dataset.\n",
    "\n",
    "    Write a function that takes in values and returns the standard deviation of the values using the formula above. Hint: use the function you wrote above to calculate the mean! Use the list of numbers you created above to test on your function.\n",
    "    \n",
    "    *Note*: Do not use any standard deviation methods built-in to any Python libraries to do this! This should be done without importing any additional libraries."
   ]
  },
  {
   "cell_type": "code",
   "execution_count": 2,
   "metadata": {},
   "outputs": [
    {
     "data": {
      "text/plain": [
       "1.4142135623730951"
      ]
     },
     "execution_count": 2,
     "metadata": {},
     "output_type": "execute_result"
    }
   ],
   "source": [
    "# Code:\n",
    "def standard_deviation(numbers):\n",
    "    mean = calc_mean(numbers)\n",
    "    num_mean_sqr_list = []\n",
    "    sum_nmsl = 0\n",
    "    for num in numbers:\n",
    "        num_mean_sqr_list.append((num - mean) ** 2)\n",
    "    for n in num_mean_sqr_list:\n",
    "        sum_nmsl += n\n",
    "    return (sum_nmsl / len(num_mean_sqr_list)) ** 0.5\n",
    "\n",
    "standard_deviation([1, 2, 3, 4, 5])\n",
    "        "
   ]
  },
  {
   "cell_type": "markdown",
   "metadata": {},
   "source": [
    "3. Data cleaning function:\n",
    "    \n",
    "    Write a function that takes in a string that is a number and a percent symbol (ex. '50%', '30.5%', etc.) and converts this to a float that is the decimal approximation of the percent. For example, inputting '50%' in your function should return 0.5, '30.5%' should return 0.305, etc. Make sure to test your function to make sure it works!\n",
    "\n",
    "You will use these functions later on in the project!"
   ]
  },
  {
   "cell_type": "code",
   "execution_count": 3,
   "metadata": {},
   "outputs": [
    {
     "data": {
      "text/plain": [
       "0.008"
      ]
     },
     "execution_count": 3,
     "metadata": {},
     "output_type": "execute_result"
    }
   ],
   "source": [
    "# Code:\n",
    "def percent_to_float(percent):\n",
    "    new_percent = percent.replace('%', '')\n",
    "    if type(new_percent) == int:\n",
    "        return int(new_percent)/100\n",
    "    else:\n",
    "        return float(new_percent)/100\n",
    "    \n",
    "percent_to_float('0.8%')\n"
   ]
  },
  {
   "cell_type": "markdown",
   "metadata": {},
   "source": [
    "## Python libraries ##"
   ]
  },
  {
   "cell_type": "code",
   "execution_count": 4,
   "metadata": {},
   "outputs": [],
   "source": [
    "# Imports:\n",
    "import pandas as pd\n",
    "import numpy as np\n",
    "import matplotlib.pyplot as plt\n",
    "import seaborn as sns\n",
    "import math"
   ]
  },
  {
   "cell_type": "markdown",
   "metadata": {},
   "source": [
    "# Data Import and Cleaning"
   ]
  },
  {
   "cell_type": "markdown",
   "metadata": {},
   "source": [
    "### Data Cleaning for SAT 2017 ###"
   ]
  },
  {
   "cell_type": "code",
   "execution_count": 5,
   "metadata": {},
   "outputs": [
    {
     "data": {
      "text/html": [
       "<div>\n",
       "<style scoped>\n",
       "    .dataframe tbody tr th:only-of-type {\n",
       "        vertical-align: middle;\n",
       "    }\n",
       "\n",
       "    .dataframe tbody tr th {\n",
       "        vertical-align: top;\n",
       "    }\n",
       "\n",
       "    .dataframe thead th {\n",
       "        text-align: right;\n",
       "    }\n",
       "</style>\n",
       "<table border=\"1\" class=\"dataframe\">\n",
       "  <thead>\n",
       "    <tr style=\"text-align: right;\">\n",
       "      <th></th>\n",
       "      <th>State</th>\n",
       "      <th>Participation</th>\n",
       "      <th>Evidence-Based Reading and Writing</th>\n",
       "      <th>Math</th>\n",
       "      <th>Total</th>\n",
       "    </tr>\n",
       "  </thead>\n",
       "  <tbody>\n",
       "    <tr>\n",
       "      <th>0</th>\n",
       "      <td>Alabama</td>\n",
       "      <td>5%</td>\n",
       "      <td>593</td>\n",
       "      <td>572</td>\n",
       "      <td>1165</td>\n",
       "    </tr>\n",
       "    <tr>\n",
       "      <th>1</th>\n",
       "      <td>Alaska</td>\n",
       "      <td>38%</td>\n",
       "      <td>547</td>\n",
       "      <td>533</td>\n",
       "      <td>1080</td>\n",
       "    </tr>\n",
       "    <tr>\n",
       "      <th>2</th>\n",
       "      <td>Arizona</td>\n",
       "      <td>30%</td>\n",
       "      <td>563</td>\n",
       "      <td>553</td>\n",
       "      <td>1116</td>\n",
       "    </tr>\n",
       "    <tr>\n",
       "      <th>3</th>\n",
       "      <td>Arkansas</td>\n",
       "      <td>3%</td>\n",
       "      <td>614</td>\n",
       "      <td>594</td>\n",
       "      <td>1208</td>\n",
       "    </tr>\n",
       "    <tr>\n",
       "      <th>4</th>\n",
       "      <td>California</td>\n",
       "      <td>53%</td>\n",
       "      <td>531</td>\n",
       "      <td>524</td>\n",
       "      <td>1055</td>\n",
       "    </tr>\n",
       "  </tbody>\n",
       "</table>\n",
       "</div>"
      ],
      "text/plain": [
       "        State Participation  Evidence-Based Reading and Writing  Math  Total\n",
       "0     Alabama            5%                                 593   572   1165\n",
       "1      Alaska           38%                                 547   533   1080\n",
       "2     Arizona           30%                                 563   553   1116\n",
       "3    Arkansas            3%                                 614   594   1208\n",
       "4  California           53%                                 531   524   1055"
      ]
     },
     "execution_count": 5,
     "metadata": {},
     "output_type": "execute_result"
    }
   ],
   "source": [
    "#Display sat_2017 dataset\n",
    "sat_2017 = pd.read_csv('./data/sat_2017.csv')\n",
    "sat_2017.head()"
   ]
  },
  {
   "cell_type": "code",
   "execution_count": 6,
   "metadata": {},
   "outputs": [],
   "source": [
    "#Rename columns\n",
    "sat_2017.rename(columns={col:col.lower() for col in sat_2017.columns}, inplace = True)\n",
    "sat_2017.rename(columns={'evidence-based reading and writing': 'readingwriting'}, inplace = True)"
   ]
  },
  {
   "cell_type": "code",
   "execution_count": 7,
   "metadata": {},
   "outputs": [
    {
     "name": "stdout",
     "output_type": "stream",
     "text": [
      "<class 'pandas.core.frame.DataFrame'>\n",
      "RangeIndex: 51 entries, 0 to 50\n",
      "Data columns (total 5 columns):\n",
      " #   Column          Non-Null Count  Dtype \n",
      "---  ------          --------------  ----- \n",
      " 0   state           51 non-null     object\n",
      " 1   participation   51 non-null     object\n",
      " 2   readingwriting  51 non-null     int64 \n",
      " 3   math            51 non-null     int64 \n",
      " 4   total           51 non-null     int64 \n",
      "dtypes: int64(3), object(2)\n",
      "memory usage: 2.1+ KB\n"
     ]
    }
   ],
   "source": [
    "#check for nulls and dtypes\n",
    "sat_2017.info()"
   ]
  },
  {
   "cell_type": "code",
   "execution_count": 8,
   "metadata": {},
   "outputs": [],
   "source": [
    "#modify participation to float using helper function\n",
    "sat_2017['participation'] = sat_2017['participation'].apply(percent_to_float)"
   ]
  },
  {
   "cell_type": "code",
   "execution_count": 9,
   "metadata": {},
   "outputs": [
    {
     "data": {
      "text/plain": [
       "state              object\n",
       "participation     float64\n",
       "readingwriting      int64\n",
       "math                int64\n",
       "total               int64\n",
       "dtype: object"
      ]
     },
     "execution_count": 9,
     "metadata": {},
     "output_type": "execute_result"
    }
   ],
   "source": [
    "cols = sat_2017.columns.tolist()\n",
    "cols = ['state', 'participation','readingwriting','math','total']\n",
    "sat_2017.dtypes"
   ]
  },
  {
   "cell_type": "code",
   "execution_count": 10,
   "metadata": {},
   "outputs": [],
   "source": [
    "# save and export the cleaned data\n",
    "sat_2017.to_csv('cleaned sat_2017.csv')"
   ]
  },
  {
   "cell_type": "markdown",
   "metadata": {},
   "source": [
    "### Data Cleaning for SAT 2018 ###"
   ]
  },
  {
   "cell_type": "code",
   "execution_count": 11,
   "metadata": {},
   "outputs": [
    {
     "data": {
      "text/html": [
       "<div>\n",
       "<style scoped>\n",
       "    .dataframe tbody tr th:only-of-type {\n",
       "        vertical-align: middle;\n",
       "    }\n",
       "\n",
       "    .dataframe tbody tr th {\n",
       "        vertical-align: top;\n",
       "    }\n",
       "\n",
       "    .dataframe thead th {\n",
       "        text-align: right;\n",
       "    }\n",
       "</style>\n",
       "<table border=\"1\" class=\"dataframe\">\n",
       "  <thead>\n",
       "    <tr style=\"text-align: right;\">\n",
       "      <th></th>\n",
       "      <th>State</th>\n",
       "      <th>Participation</th>\n",
       "      <th>Evidence-Based Reading and Writing</th>\n",
       "      <th>Math</th>\n",
       "      <th>Total</th>\n",
       "    </tr>\n",
       "  </thead>\n",
       "  <tbody>\n",
       "    <tr>\n",
       "      <th>0</th>\n",
       "      <td>Alabama</td>\n",
       "      <td>6%</td>\n",
       "      <td>595</td>\n",
       "      <td>571</td>\n",
       "      <td>1166</td>\n",
       "    </tr>\n",
       "    <tr>\n",
       "      <th>1</th>\n",
       "      <td>Alaska</td>\n",
       "      <td>43%</td>\n",
       "      <td>562</td>\n",
       "      <td>544</td>\n",
       "      <td>1106</td>\n",
       "    </tr>\n",
       "    <tr>\n",
       "      <th>2</th>\n",
       "      <td>Arizona</td>\n",
       "      <td>29%</td>\n",
       "      <td>577</td>\n",
       "      <td>572</td>\n",
       "      <td>1149</td>\n",
       "    </tr>\n",
       "    <tr>\n",
       "      <th>3</th>\n",
       "      <td>Arkansas</td>\n",
       "      <td>5%</td>\n",
       "      <td>592</td>\n",
       "      <td>576</td>\n",
       "      <td>1169</td>\n",
       "    </tr>\n",
       "    <tr>\n",
       "      <th>4</th>\n",
       "      <td>California</td>\n",
       "      <td>60%</td>\n",
       "      <td>540</td>\n",
       "      <td>536</td>\n",
       "      <td>1076</td>\n",
       "    </tr>\n",
       "  </tbody>\n",
       "</table>\n",
       "</div>"
      ],
      "text/plain": [
       "        State Participation  Evidence-Based Reading and Writing  Math  Total\n",
       "0     Alabama            6%                                 595   571   1166\n",
       "1      Alaska           43%                                 562   544   1106\n",
       "2     Arizona           29%                                 577   572   1149\n",
       "3    Arkansas            5%                                 592   576   1169\n",
       "4  California           60%                                 540   536   1076"
      ]
     },
     "execution_count": 11,
     "metadata": {},
     "output_type": "execute_result"
    }
   ],
   "source": [
    "# Display sat_2018 dataset\n",
    "sat_2018 = pd.read_csv('./data/sat_2018.csv')\n",
    "sat_2018.head()"
   ]
  },
  {
   "cell_type": "code",
   "execution_count": 12,
   "metadata": {},
   "outputs": [
    {
     "name": "stdout",
     "output_type": "stream",
     "text": [
      "<class 'pandas.core.frame.DataFrame'>\n",
      "RangeIndex: 51 entries, 0 to 50\n",
      "Data columns (total 5 columns):\n",
      " #   Column                              Non-Null Count  Dtype \n",
      "---  ------                              --------------  ----- \n",
      " 0   State                               51 non-null     object\n",
      " 1   Participation                       51 non-null     object\n",
      " 2   Evidence-Based Reading and Writing  51 non-null     int64 \n",
      " 3   Math                                51 non-null     int64 \n",
      " 4   Total                               51 non-null     int64 \n",
      "dtypes: int64(3), object(2)\n",
      "memory usage: 2.1+ KB\n"
     ]
    }
   ],
   "source": [
    "#Check for null values and dtypes\n",
    "sat_2018.info()"
   ]
  },
  {
   "cell_type": "code",
   "execution_count": 13,
   "metadata": {},
   "outputs": [],
   "source": [
    "#rename columns\n",
    "sat_2018.rename(columns={'evidence-basedreadingandwriting':'readingwriting'}, inplace=True)\n",
    "# Lowercase all column names, and remove spaces\n",
    "sat_2018.rename(columns={col:col.lower().replace(' ','') for col in sat_2018.columns}, inplace=True)"
   ]
  },
  {
   "cell_type": "code",
   "execution_count": 14,
   "metadata": {},
   "outputs": [
    {
     "data": {
      "text/plain": [
       "state                              object\n",
       "participation                      object\n",
       "evidence-basedreadingandwriting     int64\n",
       "math                                int64\n",
       "total                               int64\n",
       "dtype: object"
      ]
     },
     "execution_count": 14,
     "metadata": {},
     "output_type": "execute_result"
    }
   ],
   "source": [
    "sat_2018.dtypes"
   ]
  },
  {
   "cell_type": "code",
   "execution_count": 15,
   "metadata": {
    "tags": []
   },
   "outputs": [],
   "source": [
    "#Remove '%' from 'participation rate'\n",
    "sat_2018['participation'] = sat_2018['participation'].apply(percent_to_float)"
   ]
  },
  {
   "cell_type": "code",
   "execution_count": 16,
   "metadata": {},
   "outputs": [],
   "source": [
    "cols = sat_2018.columns.tolist()\n",
    "cols = ['state', 'participation','readingwriting','math','total']"
   ]
  },
  {
   "cell_type": "code",
   "execution_count": 17,
   "metadata": {},
   "outputs": [
    {
     "data": {
      "text/plain": [
       "state                               object\n",
       "participation                      float64\n",
       "evidence-basedreadingandwriting      int64\n",
       "math                                 int64\n",
       "total                                int64\n",
       "dtype: object"
      ]
     },
     "execution_count": 17,
     "metadata": {},
     "output_type": "execute_result"
    }
   ],
   "source": [
    "sat_2018.dtypes"
   ]
  },
  {
   "cell_type": "code",
   "execution_count": 18,
   "metadata": {},
   "outputs": [],
   "source": [
    "sat_2018.to_csv('cleaned sat_2018.csv')"
   ]
  },
  {
   "cell_type": "markdown",
   "metadata": {},
   "source": [
    "### Data Cleaning for SAT 2019 ###"
   ]
  },
  {
   "cell_type": "code",
   "execution_count": 19,
   "metadata": {},
   "outputs": [
    {
     "data": {
      "text/html": [
       "<div>\n",
       "<style scoped>\n",
       "    .dataframe tbody tr th:only-of-type {\n",
       "        vertical-align: middle;\n",
       "    }\n",
       "\n",
       "    .dataframe tbody tr th {\n",
       "        vertical-align: top;\n",
       "    }\n",
       "\n",
       "    .dataframe thead th {\n",
       "        text-align: right;\n",
       "    }\n",
       "</style>\n",
       "<table border=\"1\" class=\"dataframe\">\n",
       "  <thead>\n",
       "    <tr style=\"text-align: right;\">\n",
       "      <th></th>\n",
       "      <th>State</th>\n",
       "      <th>Participation Rate</th>\n",
       "      <th>EBRW</th>\n",
       "      <th>Math</th>\n",
       "      <th>Total</th>\n",
       "    </tr>\n",
       "  </thead>\n",
       "  <tbody>\n",
       "    <tr>\n",
       "      <th>0</th>\n",
       "      <td>Alabama</td>\n",
       "      <td>7%</td>\n",
       "      <td>583</td>\n",
       "      <td>560</td>\n",
       "      <td>1143</td>\n",
       "    </tr>\n",
       "    <tr>\n",
       "      <th>1</th>\n",
       "      <td>Alaska</td>\n",
       "      <td>41%</td>\n",
       "      <td>556</td>\n",
       "      <td>541</td>\n",
       "      <td>1097</td>\n",
       "    </tr>\n",
       "    <tr>\n",
       "      <th>2</th>\n",
       "      <td>Arizona</td>\n",
       "      <td>31%</td>\n",
       "      <td>569</td>\n",
       "      <td>565</td>\n",
       "      <td>1134</td>\n",
       "    </tr>\n",
       "    <tr>\n",
       "      <th>3</th>\n",
       "      <td>Arkansas</td>\n",
       "      <td>6%</td>\n",
       "      <td>582</td>\n",
       "      <td>559</td>\n",
       "      <td>1141</td>\n",
       "    </tr>\n",
       "    <tr>\n",
       "      <th>4</th>\n",
       "      <td>California</td>\n",
       "      <td>63%</td>\n",
       "      <td>534</td>\n",
       "      <td>531</td>\n",
       "      <td>1065</td>\n",
       "    </tr>\n",
       "  </tbody>\n",
       "</table>\n",
       "</div>"
      ],
      "text/plain": [
       "        State Participation Rate  EBRW  Math  Total\n",
       "0     Alabama                 7%   583   560   1143\n",
       "1      Alaska                41%   556   541   1097\n",
       "2     Arizona                31%   569   565   1134\n",
       "3    Arkansas                 6%   582   559   1141\n",
       "4  California                63%   534   531   1065"
      ]
     },
     "execution_count": 19,
     "metadata": {},
     "output_type": "execute_result"
    }
   ],
   "source": [
    "# Display sat_2019 dataset\n",
    "sat_2019 = pd.read_csv('./data/sat_2019.csv')\n",
    "sat_2019.head()"
   ]
  },
  {
   "cell_type": "code",
   "execution_count": 20,
   "metadata": {},
   "outputs": [
    {
     "name": "stdout",
     "output_type": "stream",
     "text": [
      "<class 'pandas.core.frame.DataFrame'>\n",
      "RangeIndex: 53 entries, 0 to 52\n",
      "Data columns (total 5 columns):\n",
      " #   Column              Non-Null Count  Dtype \n",
      "---  ------              --------------  ----- \n",
      " 0   State               53 non-null     object\n",
      " 1   Participation Rate  53 non-null     object\n",
      " 2   EBRW                53 non-null     int64 \n",
      " 3   Math                53 non-null     int64 \n",
      " 4   Total               53 non-null     int64 \n",
      "dtypes: int64(3), object(2)\n",
      "memory usage: 2.2+ KB\n"
     ]
    }
   ],
   "source": [
    "#Check for null values and dtypes\n",
    "sat_2019.info()"
   ]
  },
  {
   "cell_type": "code",
   "execution_count": 21,
   "metadata": {},
   "outputs": [],
   "source": [
    "# Rename the columns\n",
    "# EBRW to 'readingwriting'\n",
    "sat_2019.rename(columns={'EBRW':'readingwriting'}, inplace=True)\n",
    "# Lowercase all column names\n",
    "sat_2019.rename(columns={col:col.lower().replace('%','') for col in sat_2019.columns}, inplace=True)"
   ]
  },
  {
   "cell_type": "code",
   "execution_count": 22,
   "metadata": {},
   "outputs": [
    {
     "name": "stdout",
     "output_type": "stream",
     "text": [
      "<class 'pandas.core.frame.DataFrame'>\n",
      "RangeIndex: 53 entries, 0 to 52\n",
      "Data columns (total 5 columns):\n",
      " #   Column              Non-Null Count  Dtype \n",
      "---  ------              --------------  ----- \n",
      " 0   state               53 non-null     object\n",
      " 1   participation rate  53 non-null     object\n",
      " 2   readingwriting      53 non-null     int64 \n",
      " 3   math                53 non-null     int64 \n",
      " 4   total               53 non-null     int64 \n",
      "dtypes: int64(3), object(2)\n",
      "memory usage: 2.2+ KB\n"
     ]
    }
   ],
   "source": [
    "sat_2019.info()"
   ]
  },
  {
   "cell_type": "code",
   "execution_count": 23,
   "metadata": {
    "tags": []
   },
   "outputs": [
    {
     "data": {
      "text/html": [
       "<div>\n",
       "<style scoped>\n",
       "    .dataframe tbody tr th:only-of-type {\n",
       "        vertical-align: middle;\n",
       "    }\n",
       "\n",
       "    .dataframe tbody tr th {\n",
       "        vertical-align: top;\n",
       "    }\n",
       "\n",
       "    .dataframe thead th {\n",
       "        text-align: right;\n",
       "    }\n",
       "</style>\n",
       "<table border=\"1\" class=\"dataframe\">\n",
       "  <thead>\n",
       "    <tr style=\"text-align: right;\">\n",
       "      <th></th>\n",
       "      <th>state</th>\n",
       "      <th>participation</th>\n",
       "      <th>readingwriting</th>\n",
       "      <th>math</th>\n",
       "      <th>total</th>\n",
       "    </tr>\n",
       "  </thead>\n",
       "  <tbody>\n",
       "    <tr>\n",
       "      <th>39</th>\n",
       "      <td>Puerto Rico</td>\n",
       "      <td>—</td>\n",
       "      <td>483</td>\n",
       "      <td>462</td>\n",
       "      <td>944</td>\n",
       "    </tr>\n",
       "    <tr>\n",
       "      <th>47</th>\n",
       "      <td>Virgin Islands</td>\n",
       "      <td>—</td>\n",
       "      <td>490</td>\n",
       "      <td>445</td>\n",
       "      <td>935</td>\n",
       "    </tr>\n",
       "  </tbody>\n",
       "</table>\n",
       "</div>"
      ],
      "text/plain": [
       "             state participation  readingwriting  math  total\n",
       "39     Puerto Rico             —             483   462    944\n",
       "47  Virgin Islands             —             490   445    935"
      ]
     },
     "execution_count": 23,
     "metadata": {},
     "output_type": "execute_result"
    }
   ],
   "source": [
    "#Rename column\n",
    "sat_2019.rename(columns={'participation rate':'participation'}, inplace=True)\n",
    "#Find out the states with unknown participation rate\n",
    "sat_2019.loc[sat_2019['participation'] == '—', :]"
   ]
  },
  {
   "cell_type": "code",
   "execution_count": 24,
   "metadata": {},
   "outputs": [],
   "source": [
    "#Drop the data for states with unknown participation rate\n",
    "sat_2019.drop(labels= [39, 47], axis=0, inplace=True)"
   ]
  },
  {
   "cell_type": "code",
   "execution_count": 25,
   "metadata": {},
   "outputs": [],
   "source": [
    "sat_2019['participation'] = sat_2019['participation'].apply(percent_to_float)"
   ]
  },
  {
   "cell_type": "code",
   "execution_count": 26,
   "metadata": {},
   "outputs": [],
   "source": [
    "#Export cleaned data sat_2019\n",
    "sat_2019.to_csv('cleaned sat_2019.csv')"
   ]
  },
  {
   "cell_type": "code",
   "execution_count": 27,
   "metadata": {},
   "outputs": [
    {
     "name": "stdout",
     "output_type": "stream",
     "text": [
      "<class 'pandas.core.frame.DataFrame'>\n",
      "Int64Index: 51 entries, 0 to 52\n",
      "Data columns (total 5 columns):\n",
      " #   Column          Non-Null Count  Dtype  \n",
      "---  ------          --------------  -----  \n",
      " 0   state           51 non-null     object \n",
      " 1   participation   51 non-null     float64\n",
      " 2   readingwriting  51 non-null     int64  \n",
      " 3   math            51 non-null     int64  \n",
      " 4   total           51 non-null     int64  \n",
      "dtypes: float64(1), int64(3), object(1)\n",
      "memory usage: 2.4+ KB\n"
     ]
    }
   ],
   "source": [
    "sat_2019.info()"
   ]
  },
  {
   "cell_type": "markdown",
   "metadata": {
    "tags": []
   },
   "source": [
    "# Data Dictionary\n",
    "\n",
    "\n",
    "|Feature|Type|Dataset|Description|\n",
    "|---|---|---|---|\n",
    "|**state**|*object*|SAT|50 states, federal district, and minor islands| \n",
    "|**participation**|*float*|SAT|the percentage of testtakers that took SAT|\n",
    "|**readingwriting**|*int*|SAT|mean evidence-based reading and writing score (200-800)|\n",
    "|**math**|*int*|SAT| math score (200-800)|\n",
    "|**total**|*int*|SAT|combined score of reading, writing, and math (400-1600)|\n",
    "\n",
    "Provided is the skeleton for formatting a markdown table, with columns headers that will help you create a data dictionary to quickly summarize your data, as well as some examples. **This would be a great thing to copy and paste into your custom README for this project.**"
   ]
  },
  {
   "cell_type": "markdown",
   "metadata": {},
   "source": [
    "## Exploratory Data Analysis\n",
    "\n",
    "Complete the following steps to explore your data. You are welcome to do more EDA than the steps outlined here as you feel necessary:\n",
    "1. Summary Statistics.\n",
    "2. Use a **dictionary comprehension** to apply the standard deviation function you create in part 1 to each numeric column in the dataframe.  **No loops**.\n",
    "    - Assign the output to variable `sd` as a dictionary where: \n",
    "        - Each column name is now a key \n",
    "        - That standard deviation of the column is the value \n",
    "        - *Example Output :* `{'ACT_Math': 120, 'ACT_Reading': 120, ...}`\n",
    "3. Investigate trends in the data.\n",
    "    - Using sorting and/or masking (along with the `.head()` method to avoid printing our entire dataframe), consider questions relevant to your problem statement. Some examples are provided below (but feel free to change these questions for your specific problem):\n",
    "        - Which states have the highest and lowest participation rates for the 2017, 2019, or 2019 SAT and ACT?\n",
    "        - Which states have the highest and lowest mean total/composite scores for the 2017, 2019, or 2019 SAT and ACT?\n",
    "        - Do any states with 100% participation on a given test have a rate change year-to-year?\n",
    "        - Do any states show have >50% participation on *both* tests each year?\n",
    "        - Which colleges have the highest median SAT and ACT scores for admittance?\n",
    "        - Which California school districts have the highest and lowest mean test scores?\n",
    "    - **You should comment on your findings at each step in a markdown cell below your code block**. Make sure you include at least one example of sorting your dataframe by a column, and one example of using boolean filtering (i.e., masking) to select a subset of the dataframe."
   ]
  },
  {
   "cell_type": "markdown",
   "metadata": {},
   "source": [
    "## Standard Deviations ##"
   ]
  },
  {
   "cell_type": "code",
   "execution_count": 28,
   "metadata": {},
   "outputs": [],
   "source": [
    "# Read SAT 2018,, 2019 data\n",
    "c_sat_2017 = pd.read_csv('cleaned sat_2017.csv')\n",
    "c_sat_2018 = pd.read_csv('cleaned sat_2018.csv')\n",
    "c_sat_2019 = pd.read_csv('cleaned sat_2019.csv')"
   ]
  },
  {
   "cell_type": "code",
   "execution_count": 29,
   "metadata": {},
   "outputs": [],
   "source": [
    "c_sat_2017_dict = {'participation': 0.349291 , 'total': 91.583511 }\n",
    "c_sat_2018_dict = {'participation': 0.369466 , 'total': 93.227424 }\n",
    "c_sat_2019_dict = {'participation': 0.383658 , 'total': 96.240272 }"
   ]
  },
  {
   "cell_type": "code",
   "execution_count": 30,
   "metadata": {},
   "outputs": [
    {
     "name": "stdout",
     "output_type": "stream",
     "text": [
      "participation    0.349291\n",
      "dtype: float64\n",
      "total    91.583511\n",
      "dtype: float64\n"
     ]
    }
   ],
   "source": [
    "print(c_sat_2017[['participation']].apply(standard_deviation))\n",
    "print(c_sat_2017[['total']].apply(standard_deviation))"
   ]
  },
  {
   "cell_type": "code",
   "execution_count": 31,
   "metadata": {},
   "outputs": [
    {
     "name": "stdout",
     "output_type": "stream",
     "text": [
      "participation    0.369466\n",
      "dtype: float64\n",
      "total    93.227424\n",
      "dtype: float64\n"
     ]
    }
   ],
   "source": [
    "print(c_sat_2018[['participation']].apply(standard_deviation))\n",
    "print(c_sat_2018[['total']].apply(standard_deviation))"
   ]
  },
  {
   "cell_type": "code",
   "execution_count": 32,
   "metadata": {},
   "outputs": [
    {
     "name": "stdout",
     "output_type": "stream",
     "text": [
      "participation    0.383658\n",
      "dtype: float64\n",
      "total    96.240272\n",
      "dtype: float64\n"
     ]
    }
   ],
   "source": [
    "print(c_sat_2019[['participation']].apply(standard_deviation))\n",
    "print(c_sat_2019[['total']].apply(standard_deviation))"
   ]
  },
  {
   "cell_type": "markdown",
   "metadata": {},
   "source": [
    "## Which states have the highest SAT participation rates? ##"
   ]
  },
  {
   "cell_type": "code",
   "execution_count": 33,
   "metadata": {},
   "outputs": [
    {
     "data": {
      "text/html": [
       "<div>\n",
       "<style scoped>\n",
       "    .dataframe tbody tr th:only-of-type {\n",
       "        vertical-align: middle;\n",
       "    }\n",
       "\n",
       "    .dataframe tbody tr th {\n",
       "        vertical-align: top;\n",
       "    }\n",
       "\n",
       "    .dataframe thead th {\n",
       "        text-align: right;\n",
       "    }\n",
       "</style>\n",
       "<table border=\"1\" class=\"dataframe\">\n",
       "  <thead>\n",
       "    <tr style=\"text-align: right;\">\n",
       "      <th></th>\n",
       "      <th>Unnamed: 0</th>\n",
       "      <th>state</th>\n",
       "      <th>participation</th>\n",
       "      <th>readingwriting</th>\n",
       "      <th>math</th>\n",
       "      <th>total</th>\n",
       "    </tr>\n",
       "  </thead>\n",
       "  <tbody>\n",
       "    <tr>\n",
       "      <th>6</th>\n",
       "      <td>6</td>\n",
       "      <td>Connecticut</td>\n",
       "      <td>1.0</td>\n",
       "      <td>530</td>\n",
       "      <td>512</td>\n",
       "      <td>1041</td>\n",
       "    </tr>\n",
       "    <tr>\n",
       "      <th>7</th>\n",
       "      <td>7</td>\n",
       "      <td>Delaware</td>\n",
       "      <td>1.0</td>\n",
       "      <td>503</td>\n",
       "      <td>492</td>\n",
       "      <td>996</td>\n",
       "    </tr>\n",
       "    <tr>\n",
       "      <th>8</th>\n",
       "      <td>8</td>\n",
       "      <td>District of Columbia</td>\n",
       "      <td>1.0</td>\n",
       "      <td>482</td>\n",
       "      <td>468</td>\n",
       "      <td>950</td>\n",
       "    </tr>\n",
       "    <tr>\n",
       "      <th>22</th>\n",
       "      <td>22</td>\n",
       "      <td>Michigan</td>\n",
       "      <td>1.0</td>\n",
       "      <td>509</td>\n",
       "      <td>495</td>\n",
       "      <td>1005</td>\n",
       "    </tr>\n",
       "  </tbody>\n",
       "</table>\n",
       "</div>"
      ],
      "text/plain": [
       "    Unnamed: 0                 state  participation  readingwriting  math  \\\n",
       "6            6           Connecticut            1.0             530   512   \n",
       "7            7              Delaware            1.0             503   492   \n",
       "8            8  District of Columbia            1.0             482   468   \n",
       "22          22              Michigan            1.0             509   495   \n",
       "\n",
       "    total  \n",
       "6    1041  \n",
       "7     996  \n",
       "8     950  \n",
       "22   1005  "
      ]
     },
     "execution_count": 33,
     "metadata": {},
     "output_type": "execute_result"
    }
   ],
   "source": [
    "# 2017 states with highest SAT participation rate\n",
    "top_state_2017 = c_sat_2017.loc[c_sat_2017['participation']==1]\n",
    "top_state_2017"
   ]
  },
  {
   "cell_type": "code",
   "execution_count": 34,
   "metadata": {},
   "outputs": [
    {
     "data": {
      "text/html": [
       "<div>\n",
       "<style scoped>\n",
       "    .dataframe tbody tr th:only-of-type {\n",
       "        vertical-align: middle;\n",
       "    }\n",
       "\n",
       "    .dataframe tbody tr th {\n",
       "        vertical-align: top;\n",
       "    }\n",
       "\n",
       "    .dataframe thead th {\n",
       "        text-align: right;\n",
       "    }\n",
       "</style>\n",
       "<table border=\"1\" class=\"dataframe\">\n",
       "  <thead>\n",
       "    <tr style=\"text-align: right;\">\n",
       "      <th></th>\n",
       "      <th>Unnamed: 0</th>\n",
       "      <th>state</th>\n",
       "      <th>participation</th>\n",
       "      <th>evidence-basedreadingandwriting</th>\n",
       "      <th>math</th>\n",
       "      <th>total</th>\n",
       "    </tr>\n",
       "  </thead>\n",
       "  <tbody>\n",
       "    <tr>\n",
       "      <th>5</th>\n",
       "      <td>5</td>\n",
       "      <td>Colorado</td>\n",
       "      <td>1.0</td>\n",
       "      <td>519</td>\n",
       "      <td>506</td>\n",
       "      <td>1025</td>\n",
       "    </tr>\n",
       "    <tr>\n",
       "      <th>6</th>\n",
       "      <td>6</td>\n",
       "      <td>Connecticut</td>\n",
       "      <td>1.0</td>\n",
       "      <td>535</td>\n",
       "      <td>519</td>\n",
       "      <td>1053</td>\n",
       "    </tr>\n",
       "    <tr>\n",
       "      <th>7</th>\n",
       "      <td>7</td>\n",
       "      <td>Delaware</td>\n",
       "      <td>1.0</td>\n",
       "      <td>505</td>\n",
       "      <td>492</td>\n",
       "      <td>998</td>\n",
       "    </tr>\n",
       "    <tr>\n",
       "      <th>12</th>\n",
       "      <td>12</td>\n",
       "      <td>Idaho</td>\n",
       "      <td>1.0</td>\n",
       "      <td>508</td>\n",
       "      <td>493</td>\n",
       "      <td>1001</td>\n",
       "    </tr>\n",
       "    <tr>\n",
       "      <th>22</th>\n",
       "      <td>22</td>\n",
       "      <td>Michigan</td>\n",
       "      <td>1.0</td>\n",
       "      <td>511</td>\n",
       "      <td>499</td>\n",
       "      <td>1011</td>\n",
       "    </tr>\n",
       "  </tbody>\n",
       "</table>\n",
       "</div>"
      ],
      "text/plain": [
       "    Unnamed: 0        state  participation  evidence-basedreadingandwriting  \\\n",
       "5            5     Colorado            1.0                              519   \n",
       "6            6  Connecticut            1.0                              535   \n",
       "7            7     Delaware            1.0                              505   \n",
       "12          12        Idaho            1.0                              508   \n",
       "22          22     Michigan            1.0                              511   \n",
       "\n",
       "    math  total  \n",
       "5    506   1025  \n",
       "6    519   1053  \n",
       "7    492    998  \n",
       "12   493   1001  \n",
       "22   499   1011  "
      ]
     },
     "execution_count": 34,
     "metadata": {},
     "output_type": "execute_result"
    }
   ],
   "source": [
    "# 2018 states with highest SAT participation rate\n",
    "top_state_2018 = c_sat_2018.loc[c_sat_2018['participation'] == 1]\n",
    "top_state_2018"
   ]
  },
  {
   "cell_type": "code",
   "execution_count": 35,
   "metadata": {},
   "outputs": [
    {
     "data": {
      "text/html": [
       "<div>\n",
       "<style scoped>\n",
       "    .dataframe tbody tr th:only-of-type {\n",
       "        vertical-align: middle;\n",
       "    }\n",
       "\n",
       "    .dataframe tbody tr th {\n",
       "        vertical-align: top;\n",
       "    }\n",
       "\n",
       "    .dataframe thead th {\n",
       "        text-align: right;\n",
       "    }\n",
       "</style>\n",
       "<table border=\"1\" class=\"dataframe\">\n",
       "  <thead>\n",
       "    <tr style=\"text-align: right;\">\n",
       "      <th></th>\n",
       "      <th>Unnamed: 0</th>\n",
       "      <th>state</th>\n",
       "      <th>participation</th>\n",
       "      <th>readingwriting</th>\n",
       "      <th>math</th>\n",
       "      <th>total</th>\n",
       "    </tr>\n",
       "  </thead>\n",
       "  <tbody>\n",
       "    <tr>\n",
       "      <th>5</th>\n",
       "      <td>5</td>\n",
       "      <td>Colorado</td>\n",
       "      <td>1.0</td>\n",
       "      <td>518</td>\n",
       "      <td>506</td>\n",
       "      <td>1024</td>\n",
       "    </tr>\n",
       "    <tr>\n",
       "      <th>6</th>\n",
       "      <td>6</td>\n",
       "      <td>Connecticut</td>\n",
       "      <td>1.0</td>\n",
       "      <td>529</td>\n",
       "      <td>516</td>\n",
       "      <td>1046</td>\n",
       "    </tr>\n",
       "    <tr>\n",
       "      <th>7</th>\n",
       "      <td>7</td>\n",
       "      <td>Delaware</td>\n",
       "      <td>1.0</td>\n",
       "      <td>499</td>\n",
       "      <td>486</td>\n",
       "      <td>985</td>\n",
       "    </tr>\n",
       "    <tr>\n",
       "      <th>9</th>\n",
       "      <td>9</td>\n",
       "      <td>Florida</td>\n",
       "      <td>1.0</td>\n",
       "      <td>516</td>\n",
       "      <td>483</td>\n",
       "      <td>999</td>\n",
       "    </tr>\n",
       "    <tr>\n",
       "      <th>12</th>\n",
       "      <td>12</td>\n",
       "      <td>Idaho</td>\n",
       "      <td>1.0</td>\n",
       "      <td>505</td>\n",
       "      <td>488</td>\n",
       "      <td>993</td>\n",
       "    </tr>\n",
       "    <tr>\n",
       "      <th>13</th>\n",
       "      <td>13</td>\n",
       "      <td>Illinois</td>\n",
       "      <td>1.0</td>\n",
       "      <td>509</td>\n",
       "      <td>504</td>\n",
       "      <td>1013</td>\n",
       "    </tr>\n",
       "    <tr>\n",
       "      <th>22</th>\n",
       "      <td>22</td>\n",
       "      <td>Michigan</td>\n",
       "      <td>1.0</td>\n",
       "      <td>507</td>\n",
       "      <td>496</td>\n",
       "      <td>1003</td>\n",
       "    </tr>\n",
       "    <tr>\n",
       "      <th>39</th>\n",
       "      <td>40</td>\n",
       "      <td>Rhode Island</td>\n",
       "      <td>1.0</td>\n",
       "      <td>503</td>\n",
       "      <td>492</td>\n",
       "      <td>995</td>\n",
       "    </tr>\n",
       "  </tbody>\n",
       "</table>\n",
       "</div>"
      ],
      "text/plain": [
       "    Unnamed: 0         state  participation  readingwriting  math  total\n",
       "5            5      Colorado            1.0             518   506   1024\n",
       "6            6   Connecticut            1.0             529   516   1046\n",
       "7            7      Delaware            1.0             499   486    985\n",
       "9            9       Florida            1.0             516   483    999\n",
       "12          12         Idaho            1.0             505   488    993\n",
       "13          13      Illinois            1.0             509   504   1013\n",
       "22          22      Michigan            1.0             507   496   1003\n",
       "39          40  Rhode Island            1.0             503   492    995"
      ]
     },
     "execution_count": 35,
     "metadata": {},
     "output_type": "execute_result"
    }
   ],
   "source": [
    "# 2019 states with highest SAT participationr rate\n",
    "top_state_2019 = c_sat_2019.loc[c_sat_2019['participation'] == 1]\n",
    "top_state_2019"
   ]
  },
  {
   "cell_type": "code",
   "execution_count": 36,
   "metadata": {},
   "outputs": [],
   "source": [
    "frames = [top_state_2017, top_state_2018, top_state_2019]\n",
    "top_participation_states = pd.concat(frames)"
   ]
  },
  {
   "cell_type": "code",
   "execution_count": 37,
   "metadata": {},
   "outputs": [
    {
     "data": {
      "text/plain": [
       "Michigan                3\n",
       "Connecticut             3\n",
       "Delaware                3\n",
       "Idaho                   2\n",
       "Colorado                2\n",
       "District of Columbia    1\n",
       "Florida                 1\n",
       "Rhode Island            1\n",
       "Illinois                1\n",
       "Name: state, dtype: int64"
      ]
     },
     "execution_count": 37,
     "metadata": {},
     "output_type": "execute_result"
    }
   ],
   "source": [
    "top_participation_states['state'].value_counts()\n",
    "# Delaware, Connecticut, and Michigan states have the highest participation rates for all three years. "
   ]
  },
  {
   "cell_type": "markdown",
   "metadata": {},
   "source": [
    "## Which states have the highest SAT scores despite the participation rate ##"
   ]
  },
  {
   "cell_type": "code",
   "execution_count": 38,
   "metadata": {},
   "outputs": [],
   "source": [
    "top_score_2017 = c_sat_2017.sort_values('total', ascending=False)\n",
    "top_score_2018 = c_sat_2017.sort_values('total', ascending=False)\n",
    "top_score_2019 = c_sat_2017.sort_values('total', ascending=False)"
   ]
  },
  {
   "cell_type": "code",
   "execution_count": 39,
   "metadata": {},
   "outputs": [
    {
     "name": "stdout",
     "output_type": "stream",
     "text": [
      "SAT 2017\n"
     ]
    },
    {
     "data": {
      "text/html": [
       "<div>\n",
       "<style scoped>\n",
       "    .dataframe tbody tr th:only-of-type {\n",
       "        vertical-align: middle;\n",
       "    }\n",
       "\n",
       "    .dataframe tbody tr th {\n",
       "        vertical-align: top;\n",
       "    }\n",
       "\n",
       "    .dataframe thead th {\n",
       "        text-align: right;\n",
       "    }\n",
       "</style>\n",
       "<table border=\"1\" class=\"dataframe\">\n",
       "  <thead>\n",
       "    <tr style=\"text-align: right;\">\n",
       "      <th></th>\n",
       "      <th>Unnamed: 0</th>\n",
       "      <th>state</th>\n",
       "      <th>participation</th>\n",
       "      <th>readingwriting</th>\n",
       "      <th>math</th>\n",
       "      <th>total</th>\n",
       "    </tr>\n",
       "  </thead>\n",
       "  <tbody>\n",
       "    <tr>\n",
       "      <th>23</th>\n",
       "      <td>23</td>\n",
       "      <td>Minnesota</td>\n",
       "      <td>0.03</td>\n",
       "      <td>644</td>\n",
       "      <td>651</td>\n",
       "      <td>1295</td>\n",
       "    </tr>\n",
       "    <tr>\n",
       "      <th>49</th>\n",
       "      <td>49</td>\n",
       "      <td>Wisconsin</td>\n",
       "      <td>0.03</td>\n",
       "      <td>642</td>\n",
       "      <td>649</td>\n",
       "      <td>1291</td>\n",
       "    </tr>\n",
       "    <tr>\n",
       "      <th>15</th>\n",
       "      <td>15</td>\n",
       "      <td>Iowa</td>\n",
       "      <td>0.02</td>\n",
       "      <td>641</td>\n",
       "      <td>635</td>\n",
       "      <td>1275</td>\n",
       "    </tr>\n",
       "  </tbody>\n",
       "</table>\n",
       "</div>"
      ],
      "text/plain": [
       "    Unnamed: 0      state  participation  readingwriting  math  total\n",
       "23          23  Minnesota           0.03             644   651   1295\n",
       "49          49  Wisconsin           0.03             642   649   1291\n",
       "15          15       Iowa           0.02             641   635   1275"
      ]
     },
     "execution_count": 39,
     "metadata": {},
     "output_type": "execute_result"
    }
   ],
   "source": [
    "print('SAT 2017')\n",
    "top_score_2017.head(3)"
   ]
  },
  {
   "cell_type": "code",
   "execution_count": 40,
   "metadata": {},
   "outputs": [
    {
     "name": "stdout",
     "output_type": "stream",
     "text": [
      "SAT 2018\n"
     ]
    },
    {
     "data": {
      "text/html": [
       "<div>\n",
       "<style scoped>\n",
       "    .dataframe tbody tr th:only-of-type {\n",
       "        vertical-align: middle;\n",
       "    }\n",
       "\n",
       "    .dataframe tbody tr th {\n",
       "        vertical-align: top;\n",
       "    }\n",
       "\n",
       "    .dataframe thead th {\n",
       "        text-align: right;\n",
       "    }\n",
       "</style>\n",
       "<table border=\"1\" class=\"dataframe\">\n",
       "  <thead>\n",
       "    <tr style=\"text-align: right;\">\n",
       "      <th></th>\n",
       "      <th>Unnamed: 0</th>\n",
       "      <th>state</th>\n",
       "      <th>participation</th>\n",
       "      <th>readingwriting</th>\n",
       "      <th>math</th>\n",
       "      <th>total</th>\n",
       "    </tr>\n",
       "  </thead>\n",
       "  <tbody>\n",
       "    <tr>\n",
       "      <th>23</th>\n",
       "      <td>23</td>\n",
       "      <td>Minnesota</td>\n",
       "      <td>0.03</td>\n",
       "      <td>644</td>\n",
       "      <td>651</td>\n",
       "      <td>1295</td>\n",
       "    </tr>\n",
       "    <tr>\n",
       "      <th>49</th>\n",
       "      <td>49</td>\n",
       "      <td>Wisconsin</td>\n",
       "      <td>0.03</td>\n",
       "      <td>642</td>\n",
       "      <td>649</td>\n",
       "      <td>1291</td>\n",
       "    </tr>\n",
       "    <tr>\n",
       "      <th>15</th>\n",
       "      <td>15</td>\n",
       "      <td>Iowa</td>\n",
       "      <td>0.02</td>\n",
       "      <td>641</td>\n",
       "      <td>635</td>\n",
       "      <td>1275</td>\n",
       "    </tr>\n",
       "  </tbody>\n",
       "</table>\n",
       "</div>"
      ],
      "text/plain": [
       "    Unnamed: 0      state  participation  readingwriting  math  total\n",
       "23          23  Minnesota           0.03             644   651   1295\n",
       "49          49  Wisconsin           0.03             642   649   1291\n",
       "15          15       Iowa           0.02             641   635   1275"
      ]
     },
     "execution_count": 40,
     "metadata": {},
     "output_type": "execute_result"
    }
   ],
   "source": [
    "print('SAT 2018')\n",
    "top_score_2018.head(3)"
   ]
  },
  {
   "cell_type": "code",
   "execution_count": 41,
   "metadata": {},
   "outputs": [
    {
     "name": "stdout",
     "output_type": "stream",
     "text": [
      "SAT 2019\n"
     ]
    },
    {
     "data": {
      "text/html": [
       "<div>\n",
       "<style scoped>\n",
       "    .dataframe tbody tr th:only-of-type {\n",
       "        vertical-align: middle;\n",
       "    }\n",
       "\n",
       "    .dataframe tbody tr th {\n",
       "        vertical-align: top;\n",
       "    }\n",
       "\n",
       "    .dataframe thead th {\n",
       "        text-align: right;\n",
       "    }\n",
       "</style>\n",
       "<table border=\"1\" class=\"dataframe\">\n",
       "  <thead>\n",
       "    <tr style=\"text-align: right;\">\n",
       "      <th></th>\n",
       "      <th>Unnamed: 0</th>\n",
       "      <th>state</th>\n",
       "      <th>participation</th>\n",
       "      <th>readingwriting</th>\n",
       "      <th>math</th>\n",
       "      <th>total</th>\n",
       "    </tr>\n",
       "  </thead>\n",
       "  <tbody>\n",
       "    <tr>\n",
       "      <th>23</th>\n",
       "      <td>23</td>\n",
       "      <td>Minnesota</td>\n",
       "      <td>0.03</td>\n",
       "      <td>644</td>\n",
       "      <td>651</td>\n",
       "      <td>1295</td>\n",
       "    </tr>\n",
       "    <tr>\n",
       "      <th>49</th>\n",
       "      <td>49</td>\n",
       "      <td>Wisconsin</td>\n",
       "      <td>0.03</td>\n",
       "      <td>642</td>\n",
       "      <td>649</td>\n",
       "      <td>1291</td>\n",
       "    </tr>\n",
       "    <tr>\n",
       "      <th>15</th>\n",
       "      <td>15</td>\n",
       "      <td>Iowa</td>\n",
       "      <td>0.02</td>\n",
       "      <td>641</td>\n",
       "      <td>635</td>\n",
       "      <td>1275</td>\n",
       "    </tr>\n",
       "  </tbody>\n",
       "</table>\n",
       "</div>"
      ],
      "text/plain": [
       "    Unnamed: 0      state  participation  readingwriting  math  total\n",
       "23          23  Minnesota           0.03             644   651   1295\n",
       "49          49  Wisconsin           0.03             642   649   1291\n",
       "15          15       Iowa           0.02             641   635   1275"
      ]
     },
     "execution_count": 41,
     "metadata": {},
     "output_type": "execute_result"
    }
   ],
   "source": [
    "print('SAT 2019')\n",
    "top_score_2019.head(3)"
   ]
  },
  {
   "cell_type": "markdown",
   "metadata": {},
   "source": [
    "## Which state with 100% SAT participation rate has the highest SAT score? ##"
   ]
  },
  {
   "cell_type": "code",
   "execution_count": 42,
   "metadata": {},
   "outputs": [
    {
     "data": {
      "text/html": [
       "<div>\n",
       "<style scoped>\n",
       "    .dataframe tbody tr th:only-of-type {\n",
       "        vertical-align: middle;\n",
       "    }\n",
       "\n",
       "    .dataframe tbody tr th {\n",
       "        vertical-align: top;\n",
       "    }\n",
       "\n",
       "    .dataframe thead th {\n",
       "        text-align: right;\n",
       "    }\n",
       "</style>\n",
       "<table border=\"1\" class=\"dataframe\">\n",
       "  <thead>\n",
       "    <tr style=\"text-align: right;\">\n",
       "      <th></th>\n",
       "      <th>Unnamed: 0</th>\n",
       "      <th>state</th>\n",
       "      <th>participation</th>\n",
       "      <th>readingwriting</th>\n",
       "      <th>math</th>\n",
       "      <th>total</th>\n",
       "    </tr>\n",
       "  </thead>\n",
       "  <tbody>\n",
       "    <tr>\n",
       "      <th>6</th>\n",
       "      <td>6</td>\n",
       "      <td>Connecticut</td>\n",
       "      <td>1.0</td>\n",
       "      <td>530</td>\n",
       "      <td>512</td>\n",
       "      <td>1041</td>\n",
       "    </tr>\n",
       "    <tr>\n",
       "      <th>22</th>\n",
       "      <td>22</td>\n",
       "      <td>Michigan</td>\n",
       "      <td>1.0</td>\n",
       "      <td>509</td>\n",
       "      <td>495</td>\n",
       "      <td>1005</td>\n",
       "    </tr>\n",
       "    <tr>\n",
       "      <th>7</th>\n",
       "      <td>7</td>\n",
       "      <td>Delaware</td>\n",
       "      <td>1.0</td>\n",
       "      <td>503</td>\n",
       "      <td>492</td>\n",
       "      <td>996</td>\n",
       "    </tr>\n",
       "    <tr>\n",
       "      <th>8</th>\n",
       "      <td>8</td>\n",
       "      <td>District of Columbia</td>\n",
       "      <td>1.0</td>\n",
       "      <td>482</td>\n",
       "      <td>468</td>\n",
       "      <td>950</td>\n",
       "    </tr>\n",
       "  </tbody>\n",
       "</table>\n",
       "</div>"
      ],
      "text/plain": [
       "    Unnamed: 0                 state  participation  readingwriting  math  \\\n",
       "6            6           Connecticut            1.0             530   512   \n",
       "22          22              Michigan            1.0             509   495   \n",
       "7            7              Delaware            1.0             503   492   \n",
       "8            8  District of Columbia            1.0             482   468   \n",
       "\n",
       "    total  \n",
       "6    1041  \n",
       "22   1005  \n",
       "7     996  \n",
       "8     950  "
      ]
     },
     "execution_count": 42,
     "metadata": {},
     "output_type": "execute_result"
    }
   ],
   "source": [
    "top_state_2017.sort_values('total', ascending=False)"
   ]
  },
  {
   "cell_type": "code",
   "execution_count": 43,
   "metadata": {},
   "outputs": [
    {
     "data": {
      "text/html": [
       "<div>\n",
       "<style scoped>\n",
       "    .dataframe tbody tr th:only-of-type {\n",
       "        vertical-align: middle;\n",
       "    }\n",
       "\n",
       "    .dataframe tbody tr th {\n",
       "        vertical-align: top;\n",
       "    }\n",
       "\n",
       "    .dataframe thead th {\n",
       "        text-align: right;\n",
       "    }\n",
       "</style>\n",
       "<table border=\"1\" class=\"dataframe\">\n",
       "  <thead>\n",
       "    <tr style=\"text-align: right;\">\n",
       "      <th></th>\n",
       "      <th>Unnamed: 0</th>\n",
       "      <th>state</th>\n",
       "      <th>participation</th>\n",
       "      <th>evidence-basedreadingandwriting</th>\n",
       "      <th>math</th>\n",
       "      <th>total</th>\n",
       "    </tr>\n",
       "  </thead>\n",
       "  <tbody>\n",
       "    <tr>\n",
       "      <th>6</th>\n",
       "      <td>6</td>\n",
       "      <td>Connecticut</td>\n",
       "      <td>1.0</td>\n",
       "      <td>535</td>\n",
       "      <td>519</td>\n",
       "      <td>1053</td>\n",
       "    </tr>\n",
       "    <tr>\n",
       "      <th>5</th>\n",
       "      <td>5</td>\n",
       "      <td>Colorado</td>\n",
       "      <td>1.0</td>\n",
       "      <td>519</td>\n",
       "      <td>506</td>\n",
       "      <td>1025</td>\n",
       "    </tr>\n",
       "    <tr>\n",
       "      <th>22</th>\n",
       "      <td>22</td>\n",
       "      <td>Michigan</td>\n",
       "      <td>1.0</td>\n",
       "      <td>511</td>\n",
       "      <td>499</td>\n",
       "      <td>1011</td>\n",
       "    </tr>\n",
       "    <tr>\n",
       "      <th>12</th>\n",
       "      <td>12</td>\n",
       "      <td>Idaho</td>\n",
       "      <td>1.0</td>\n",
       "      <td>508</td>\n",
       "      <td>493</td>\n",
       "      <td>1001</td>\n",
       "    </tr>\n",
       "    <tr>\n",
       "      <th>7</th>\n",
       "      <td>7</td>\n",
       "      <td>Delaware</td>\n",
       "      <td>1.0</td>\n",
       "      <td>505</td>\n",
       "      <td>492</td>\n",
       "      <td>998</td>\n",
       "    </tr>\n",
       "  </tbody>\n",
       "</table>\n",
       "</div>"
      ],
      "text/plain": [
       "    Unnamed: 0        state  participation  evidence-basedreadingandwriting  \\\n",
       "6            6  Connecticut            1.0                              535   \n",
       "5            5     Colorado            1.0                              519   \n",
       "22          22     Michigan            1.0                              511   \n",
       "12          12        Idaho            1.0                              508   \n",
       "7            7     Delaware            1.0                              505   \n",
       "\n",
       "    math  total  \n",
       "6    519   1053  \n",
       "5    506   1025  \n",
       "22   499   1011  \n",
       "12   493   1001  \n",
       "7    492    998  "
      ]
     },
     "execution_count": 43,
     "metadata": {},
     "output_type": "execute_result"
    }
   ],
   "source": [
    "top_state_2018.sort_values('total', ascending=False)"
   ]
  },
  {
   "cell_type": "code",
   "execution_count": 44,
   "metadata": {},
   "outputs": [
    {
     "data": {
      "text/html": [
       "<div>\n",
       "<style scoped>\n",
       "    .dataframe tbody tr th:only-of-type {\n",
       "        vertical-align: middle;\n",
       "    }\n",
       "\n",
       "    .dataframe tbody tr th {\n",
       "        vertical-align: top;\n",
       "    }\n",
       "\n",
       "    .dataframe thead th {\n",
       "        text-align: right;\n",
       "    }\n",
       "</style>\n",
       "<table border=\"1\" class=\"dataframe\">\n",
       "  <thead>\n",
       "    <tr style=\"text-align: right;\">\n",
       "      <th></th>\n",
       "      <th>Unnamed: 0</th>\n",
       "      <th>state</th>\n",
       "      <th>participation</th>\n",
       "      <th>readingwriting</th>\n",
       "      <th>math</th>\n",
       "      <th>total</th>\n",
       "    </tr>\n",
       "  </thead>\n",
       "  <tbody>\n",
       "    <tr>\n",
       "      <th>6</th>\n",
       "      <td>6</td>\n",
       "      <td>Connecticut</td>\n",
       "      <td>1.0</td>\n",
       "      <td>529</td>\n",
       "      <td>516</td>\n",
       "      <td>1046</td>\n",
       "    </tr>\n",
       "    <tr>\n",
       "      <th>5</th>\n",
       "      <td>5</td>\n",
       "      <td>Colorado</td>\n",
       "      <td>1.0</td>\n",
       "      <td>518</td>\n",
       "      <td>506</td>\n",
       "      <td>1024</td>\n",
       "    </tr>\n",
       "    <tr>\n",
       "      <th>13</th>\n",
       "      <td>13</td>\n",
       "      <td>Illinois</td>\n",
       "      <td>1.0</td>\n",
       "      <td>509</td>\n",
       "      <td>504</td>\n",
       "      <td>1013</td>\n",
       "    </tr>\n",
       "    <tr>\n",
       "      <th>22</th>\n",
       "      <td>22</td>\n",
       "      <td>Michigan</td>\n",
       "      <td>1.0</td>\n",
       "      <td>507</td>\n",
       "      <td>496</td>\n",
       "      <td>1003</td>\n",
       "    </tr>\n",
       "    <tr>\n",
       "      <th>9</th>\n",
       "      <td>9</td>\n",
       "      <td>Florida</td>\n",
       "      <td>1.0</td>\n",
       "      <td>516</td>\n",
       "      <td>483</td>\n",
       "      <td>999</td>\n",
       "    </tr>\n",
       "    <tr>\n",
       "      <th>39</th>\n",
       "      <td>40</td>\n",
       "      <td>Rhode Island</td>\n",
       "      <td>1.0</td>\n",
       "      <td>503</td>\n",
       "      <td>492</td>\n",
       "      <td>995</td>\n",
       "    </tr>\n",
       "    <tr>\n",
       "      <th>12</th>\n",
       "      <td>12</td>\n",
       "      <td>Idaho</td>\n",
       "      <td>1.0</td>\n",
       "      <td>505</td>\n",
       "      <td>488</td>\n",
       "      <td>993</td>\n",
       "    </tr>\n",
       "    <tr>\n",
       "      <th>7</th>\n",
       "      <td>7</td>\n",
       "      <td>Delaware</td>\n",
       "      <td>1.0</td>\n",
       "      <td>499</td>\n",
       "      <td>486</td>\n",
       "      <td>985</td>\n",
       "    </tr>\n",
       "  </tbody>\n",
       "</table>\n",
       "</div>"
      ],
      "text/plain": [
       "    Unnamed: 0         state  participation  readingwriting  math  total\n",
       "6            6   Connecticut            1.0             529   516   1046\n",
       "5            5      Colorado            1.0             518   506   1024\n",
       "13          13      Illinois            1.0             509   504   1013\n",
       "22          22      Michigan            1.0             507   496   1003\n",
       "9            9       Florida            1.0             516   483    999\n",
       "39          40  Rhode Island            1.0             503   492    995\n",
       "12          12         Idaho            1.0             505   488    993\n",
       "7            7      Delaware            1.0             499   486    985"
      ]
     },
     "execution_count": 44,
     "metadata": {},
     "output_type": "execute_result"
    }
   ],
   "source": [
    "top_state_2019.sort_values('total', ascending=False)"
   ]
  },
  {
   "cell_type": "code",
   "execution_count": 45,
   "metadata": {},
   "outputs": [],
   "source": [
    "# Connecticut has the highest SAT score from 2017-2019 while obtaining 100% participation rate "
   ]
  },
  {
   "cell_type": "code",
   "execution_count": 46,
   "metadata": {},
   "outputs": [
    {
     "data": {
      "text/html": [
       "<div>\n",
       "<style scoped>\n",
       "    .dataframe tbody tr th:only-of-type {\n",
       "        vertical-align: middle;\n",
       "    }\n",
       "\n",
       "    .dataframe tbody tr th {\n",
       "        vertical-align: top;\n",
       "    }\n",
       "\n",
       "    .dataframe thead th {\n",
       "        text-align: right;\n",
       "    }\n",
       "</style>\n",
       "<table border=\"1\" class=\"dataframe\">\n",
       "  <thead>\n",
       "    <tr style=\"text-align: right;\">\n",
       "      <th></th>\n",
       "      <th>Unnamed: 0</th>\n",
       "      <th>state</th>\n",
       "      <th>participation</th>\n",
       "      <th>readingwriting</th>\n",
       "      <th>math</th>\n",
       "      <th>total</th>\n",
       "    </tr>\n",
       "  </thead>\n",
       "  <tbody>\n",
       "    <tr>\n",
       "      <th>7</th>\n",
       "      <td>7</td>\n",
       "      <td>Delaware</td>\n",
       "      <td>1.0</td>\n",
       "      <td>503</td>\n",
       "      <td>492</td>\n",
       "      <td>996</td>\n",
       "    </tr>\n",
       "    <tr>\n",
       "      <th>6</th>\n",
       "      <td>6</td>\n",
       "      <td>Connecticut</td>\n",
       "      <td>1.0</td>\n",
       "      <td>530</td>\n",
       "      <td>512</td>\n",
       "      <td>1041</td>\n",
       "    </tr>\n",
       "    <tr>\n",
       "      <th>22</th>\n",
       "      <td>22</td>\n",
       "      <td>Michigan</td>\n",
       "      <td>1.0</td>\n",
       "      <td>509</td>\n",
       "      <td>495</td>\n",
       "      <td>1005</td>\n",
       "    </tr>\n",
       "  </tbody>\n",
       "</table>\n",
       "</div>"
      ],
      "text/plain": [
       "    Unnamed: 0        state  participation  readingwriting  math  total\n",
       "7            7     Delaware            1.0             503   492    996\n",
       "6            6  Connecticut            1.0             530   512   1041\n",
       "22          22     Michigan            1.0             509   495   1005"
      ]
     },
     "execution_count": 46,
     "metadata": {},
     "output_type": "execute_result"
    }
   ],
   "source": [
    "# Let's compare their mean SAT scores\n",
    "Delaware_2017 = c_sat_2017.loc[(c_sat_2017['state'] == 'Delaware')]\n",
    "Connecticut_2017 = c_sat_2017.loc[(c_sat_2017['state'] == 'Connecticut')]\n",
    "Michigan_2017 = c_sat_2017.loc[(c_sat_2017['state'] == 'Michigan')]\n",
    "frames = [Delaware_2017, Connecticut_2017, Michigan_2017]\n",
    "top_3_2017 = pd.concat(frames)\n",
    "top_3_2017"
   ]
  },
  {
   "cell_type": "code",
   "execution_count": 47,
   "metadata": {},
   "outputs": [
    {
     "data": {
      "text/html": [
       "<div>\n",
       "<style scoped>\n",
       "    .dataframe tbody tr th:only-of-type {\n",
       "        vertical-align: middle;\n",
       "    }\n",
       "\n",
       "    .dataframe tbody tr th {\n",
       "        vertical-align: top;\n",
       "    }\n",
       "\n",
       "    .dataframe thead th {\n",
       "        text-align: right;\n",
       "    }\n",
       "</style>\n",
       "<table border=\"1\" class=\"dataframe\">\n",
       "  <thead>\n",
       "    <tr style=\"text-align: right;\">\n",
       "      <th></th>\n",
       "      <th>Unnamed: 0</th>\n",
       "      <th>state</th>\n",
       "      <th>participation</th>\n",
       "      <th>evidence-basedreadingandwriting</th>\n",
       "      <th>math</th>\n",
       "      <th>total</th>\n",
       "    </tr>\n",
       "  </thead>\n",
       "  <tbody>\n",
       "    <tr>\n",
       "      <th>7</th>\n",
       "      <td>7</td>\n",
       "      <td>Delaware</td>\n",
       "      <td>1.0</td>\n",
       "      <td>505</td>\n",
       "      <td>492</td>\n",
       "      <td>998</td>\n",
       "    </tr>\n",
       "    <tr>\n",
       "      <th>6</th>\n",
       "      <td>6</td>\n",
       "      <td>Connecticut</td>\n",
       "      <td>1.0</td>\n",
       "      <td>535</td>\n",
       "      <td>519</td>\n",
       "      <td>1053</td>\n",
       "    </tr>\n",
       "    <tr>\n",
       "      <th>22</th>\n",
       "      <td>22</td>\n",
       "      <td>Michigan</td>\n",
       "      <td>1.0</td>\n",
       "      <td>511</td>\n",
       "      <td>499</td>\n",
       "      <td>1011</td>\n",
       "    </tr>\n",
       "  </tbody>\n",
       "</table>\n",
       "</div>"
      ],
      "text/plain": [
       "    Unnamed: 0        state  participation  evidence-basedreadingandwriting  \\\n",
       "7            7     Delaware            1.0                              505   \n",
       "6            6  Connecticut            1.0                              535   \n",
       "22          22     Michigan            1.0                              511   \n",
       "\n",
       "    math  total  \n",
       "7    492    998  \n",
       "6    519   1053  \n",
       "22   499   1011  "
      ]
     },
     "execution_count": 47,
     "metadata": {},
     "output_type": "execute_result"
    }
   ],
   "source": [
    "Delaware_2018 = c_sat_2018.loc[(c_sat_2018['state'] == 'Delaware')]\n",
    "Connecticut_2018 = c_sat_2018.loc[(c_sat_2018['state'] == 'Connecticut')]\n",
    "Michigan_2018 = c_sat_2018.loc[(c_sat_2018['state'] == 'Michigan')]\n",
    "frames = [Delaware_2018, Connecticut_2018, Michigan_2018]\n",
    "top_3_2018 = pd.concat(frames)\n",
    "top_3_2018"
   ]
  },
  {
   "cell_type": "code",
   "execution_count": 48,
   "metadata": {},
   "outputs": [
    {
     "data": {
      "text/html": [
       "<div>\n",
       "<style scoped>\n",
       "    .dataframe tbody tr th:only-of-type {\n",
       "        vertical-align: middle;\n",
       "    }\n",
       "\n",
       "    .dataframe tbody tr th {\n",
       "        vertical-align: top;\n",
       "    }\n",
       "\n",
       "    .dataframe thead th {\n",
       "        text-align: right;\n",
       "    }\n",
       "</style>\n",
       "<table border=\"1\" class=\"dataframe\">\n",
       "  <thead>\n",
       "    <tr style=\"text-align: right;\">\n",
       "      <th></th>\n",
       "      <th>Unnamed: 0</th>\n",
       "      <th>state</th>\n",
       "      <th>participation</th>\n",
       "      <th>readingwriting</th>\n",
       "      <th>math</th>\n",
       "      <th>total</th>\n",
       "    </tr>\n",
       "  </thead>\n",
       "  <tbody>\n",
       "    <tr>\n",
       "      <th>7</th>\n",
       "      <td>7</td>\n",
       "      <td>Delaware</td>\n",
       "      <td>1.0</td>\n",
       "      <td>499</td>\n",
       "      <td>486</td>\n",
       "      <td>985</td>\n",
       "    </tr>\n",
       "    <tr>\n",
       "      <th>6</th>\n",
       "      <td>6</td>\n",
       "      <td>Connecticut</td>\n",
       "      <td>1.0</td>\n",
       "      <td>529</td>\n",
       "      <td>516</td>\n",
       "      <td>1046</td>\n",
       "    </tr>\n",
       "    <tr>\n",
       "      <th>22</th>\n",
       "      <td>22</td>\n",
       "      <td>Michigan</td>\n",
       "      <td>1.0</td>\n",
       "      <td>507</td>\n",
       "      <td>496</td>\n",
       "      <td>1003</td>\n",
       "    </tr>\n",
       "  </tbody>\n",
       "</table>\n",
       "</div>"
      ],
      "text/plain": [
       "    Unnamed: 0        state  participation  readingwriting  math  total\n",
       "7            7     Delaware            1.0             499   486    985\n",
       "6            6  Connecticut            1.0             529   516   1046\n",
       "22          22     Michigan            1.0             507   496   1003"
      ]
     },
     "execution_count": 48,
     "metadata": {},
     "output_type": "execute_result"
    }
   ],
   "source": [
    "Delaware_2019 = c_sat_2019.loc[(c_sat_2019['state'] == 'Delaware')]\n",
    "Connecticut_2019 = c_sat_2019.loc[(c_sat_2019['state'] == 'Connecticut')]\n",
    "Michigan_2019 = c_sat_2019.loc[(c_sat_2019['state'] == 'Michigan')]\n",
    "frames = [Delaware_2019, Connecticut_2019, Michigan_2019]\n",
    "top_3_2019 = pd.concat(frames)\n",
    "top_3_2019"
   ]
  },
  {
   "cell_type": "markdown",
   "metadata": {},
   "source": [
    "**To-Do:** *Edit this cell with your findings on trends in the data (step 3 above).*"
   ]
  },
  {
   "cell_type": "markdown",
   "metadata": {},
   "source": [
    "# Visualize Data #"
   ]
  },
  {
   "cell_type": "markdown",
   "metadata": {},
   "source": [
    "## Which states have the highest SAT participation rates? ##\n",
    "- Delaware, Connecticut, and Michigan have 100% SAT participation rates for years of 2017, 2018, and 2019. "
   ]
  },
  {
   "cell_type": "code",
   "execution_count": 63,
   "metadata": {},
   "outputs": [
    {
     "data": {
      "image/png": "[encoded data removed]",
      "text/plain": [
       "<Figure size 720x360 with 1 Axes>"
      ]
     },
     "metadata": {
      "needs_background": "light"
     },
     "output_type": "display_data"
    }
   ],
   "source": [
    "top_participation_states['state'].value_counts().plot(\n",
    "    kind = 'bar',\n",
    "    title = 'States that have 100% SAT participation rates from 2017-2019',\n",
    "    xlabel = 'states',\n",
    "    ylabel = 'occurance',\n",
    "    color = 'orange',\n",
    "    figsize = (10,5))\n",
    "plt.savefig('participation.png')"
   ]
  },
  {
   "cell_type": "markdown",
   "metadata": {},
   "source": [
    "## Which state with 100% SAT participation rate for at least 1 year, has the highest SAT score? ##\n",
    "- Connecticut has the highest SAT among all the states that have 100% participation rates"
   ]
  },
  {
   "cell_type": "code",
   "execution_count": 50,
   "metadata": {},
   "outputs": [],
   "source": [
    "top_participation_states_groupby = top_participation_states.groupby('state')['total'].describe()"
   ]
  },
  {
   "cell_type": "code",
   "execution_count": 51,
   "metadata": {},
   "outputs": [
    {
     "data": {
      "text/plain": [
       "<AxesSubplot:title={'center':'Mean SAT scores for states that had 100% participation, sorted from high to low'}, xlabel='states', ylabel='mean SAT scores'>"
      ]
     },
     "execution_count": 51,
     "metadata": {},
     "output_type": "execute_result"
    },
    {
     "data": {
      "image/png": "[encoded data removed]",
      "text/plain": [
       "<Figure size 720x360 with 1 Axes>"
      ]
     },
     "metadata": {
      "needs_background": "light"
     },
     "output_type": "display_data"
    }
   ],
   "source": [
    "top_participation_states_groupby[['mean']].sort_values('mean', ascending=False).plot(\n",
    "    kind='bar',\n",
    "    title='Mean SAT scores for states that had 100% participation, sorted from high to low',\n",
    "    xlabel = 'states',\n",
    "    ylabel = 'mean SAT scores',\n",
    "    figsize=(10,5))"
   ]
  },
  {
   "cell_type": "markdown",
   "metadata": {},
   "source": [
    "## Dispite the participation rate, which states have the highest mean SAT scores from 2017 to 2019 ##\n",
    "- Minnesota, Wisconsin, Iowa, Missouri, and kansas achieved highest mean SAT scrores from 2017 to 2019"
   ]
  },
  {
   "cell_type": "code",
   "execution_count": 52,
   "metadata": {},
   "outputs": [],
   "source": [
    "# Merge Data\n",
    "score_frame = top_score_2017, top_score_2018, top_score_2019\n",
    "score_merged = pd.concat(score_frame)"
   ]
  },
  {
   "cell_type": "code",
   "execution_count": 53,
   "metadata": {},
   "outputs": [
    {
     "data": {
      "text/plain": [
       "<AxesSubplot:title={'center':'Top 5 states with the highest mean SAT score for year 2017-2019'}, xlabel='state', ylabel='Mean SAT scores'>"
      ]
     },
     "execution_count": 53,
     "metadata": {},
     "output_type": "execute_result"
    },
    {
     "data": {
      "image/png": "[encoded data removed]",
      "text/plain": [
       "<Figure size 720x360 with 1 Axes>"
      ]
     },
     "metadata": {
      "needs_background": "light"
     },
     "output_type": "display_data"
    }
   ],
   "source": [
    "# Describe the merged data to obtain the mean total scores by states.\n",
    "score_merged_described = score_merged.groupby('state')['total'].describe()\n",
    "score_merged_described.sort_values('mean',ascending=False ).head()['mean'].plot(\n",
    "    kind = 'bar',\n",
    "    xlabel = 'state',\n",
    "    ylabel = 'Mean SAT scores',\n",
    "    title = 'Top 5 states with the highest mean SAT score for year 2017-2019',\n",
    "    figsize = (10,5))"
   ]
  },
  {
   "cell_type": "markdown",
   "metadata": {},
   "source": [
    "## What trend did you notice, when we import SAT scores for year of 2020, and 2021 ##\n",
    "- The three states that had maintained 100% SAT participation for 2017, 2018, and 2019. They all experience a sudden decrease in the SAT performances for the year of 2020. "
   ]
  },
  {
   "cell_type": "code",
   "execution_count": 58,
   "metadata": {},
   "outputs": [
    {
     "data": {
      "image/png": "[encoded data removed]",
      "text/plain": [
       "<Figure size 432x288 with 1 Axes>"
      ]
     },
     "metadata": {
      "needs_background": "light"
     },
     "output_type": "display_data"
    }
   ],
   "source": [
    "# Plot the mean scores from 2017 - 2021 for the states with highest SAT participation\n",
    "# Resources from collegeboard.org \n",
    "# 2017 Delaware = 996 (mean score without essay)\n",
    "# 2018 Delaware = 998 (mean score without essay)\n",
    "# 2019 Delaware = 985 (mean score without essay)\n",
    "Delaware_2020 = 978\n",
    "Delaware_2021 = 984\n",
    "\n",
    "Delaware_5yr_meantrend = [Delaware_2017['total'].iloc[0], Delaware_2018['total'].iloc[0], Delaware_2019['total'].iloc[0], 978, 984]\n",
    "time = [2017, 2018, 2019, 2020, 2021]\n",
    "sns.lineplot(x=time, y=Delaware_5yr_meantrend, color='orange', label='SAT score')\n",
    "plt.title('Mean SAT Scores for Delaware from 2017-2021')\n",
    "plt.xlabel('Academic Year')\n",
    "plt.ylabel('Score')\n",
    "plt.axhline(y=sum(Delaware_5yr_meantrend)/5, label='average score'),\n",
    "plt.legend(),\n",
    "plt.xticks(np.arange(2017, 2022, step=1))\n",
    "plt.savefig('delaware.png')"
   ]
  },
  {
   "cell_type": "code",
   "execution_count": 55,
   "metadata": {},
   "outputs": [
    {
     "data": {
      "text/plain": [
       "988.2"
      ]
     },
     "execution_count": 55,
     "metadata": {},
     "output_type": "execute_result"
    }
   ],
   "source": [
    "average_Delaware = sum(Delaware_5yr_meantrend)/5\n",
    "average_Delaware"
   ]
  },
  {
   "cell_type": "code",
   "execution_count": 69,
   "metadata": {},
   "outputs": [
    {
     "data": {
      "text/plain": [
       "[996, 998, 985, 978, 984]"
      ]
     },
     "execution_count": 69,
     "metadata": {},
     "output_type": "execute_result"
    }
   ],
   "source": [
    "Delaware_5yr_meantrend"
   ]
  },
  {
   "cell_type": "code",
   "execution_count": 56,
   "metadata": {},
   "outputs": [
    {
     "data": {
      "image/png": "[encoded data removed]",
      "text/plain": [
       "<Figure size 432x288 with 1 Axes>"
      ]
     },
     "metadata": {
      "needs_background": "light"
     },
     "output_type": "display_data"
    }
   ],
   "source": [
    "# Resources from collegeboard.org\n",
    "Connecticut_2020 = 1039\n",
    "Connecticut_2021 = 1072\n",
    "\n",
    "Connecticut_5yr_meantrend = [Connecticut_2017['total'].iloc[0], Connecticut_2018['total'].iloc[0], Connecticut_2019['total'].iloc[0], 1039, 1072]\n",
    "time = [2017, 2018, 2019, 2020, 2021]\n",
    "sns.lineplot(x=time, y=Connecticut_5yr_meantrend, color='blue', label='SAT score')\n",
    "plt.title('Mean SAT Scores for Connecticut from 2017-2021')\n",
    "plt.axhline(y=sum(Connecticut_5yr_meantrend)/5, label ='average score')\n",
    "plt.legend()\n",
    "plt.xlabel('Academic Year')\n",
    "plt.ylabel('Score')\n",
    "plt.xticks(np.arange(2017, 2022, step=1))\n",
    "plt.savefig('connecticut.png')"
   ]
  },
  {
   "cell_type": "code",
   "execution_count": 219,
   "metadata": {},
   "outputs": [
    {
     "data": {
      "text/plain": [
       "1050.2"
      ]
     },
     "execution_count": 219,
     "metadata": {},
     "output_type": "execute_result"
    }
   ],
   "source": [
    "average_Connecticut=sum(Connecticut_5yr_meantrend)/5\n",
    "average_Connecticut"
   ]
  },
  {
   "cell_type": "code",
   "execution_count": 68,
   "metadata": {},
   "outputs": [
    {
     "data": {
      "text/plain": [
       "[1041, 1053, 1046, 1039, 1072]"
      ]
     },
     "execution_count": 68,
     "metadata": {},
     "output_type": "execute_result"
    }
   ],
   "source": [
    "Connecticut_5yr_meantrend"
   ]
  },
  {
   "cell_type": "code",
   "execution_count": 59,
   "metadata": {},
   "outputs": [
    {
     "data": {
      "image/png": "[encoded data removed]",
      "text/plain": [
       "<Figure size 432x288 with 1 Axes>"
      ]
     },
     "metadata": {
      "needs_background": "light"
     },
     "output_type": "display_data"
    }
   ],
   "source": [
    "# Resources from collegeboard.org\n",
    "Michigan_2020 = 998\n",
    "Michigan_2021 = 1031\n",
    "\n",
    "Michigan_5yr_meantrend = [Michigan_2017['total'].iloc[0], Michigan_2018['total'].iloc[0], Michigan_2019['total'].iloc[0], 998, 1031]\n",
    "time = [2017, 2018, 2019, 2020, 2021]\n",
    "sns.lineplot(x=time, y=Michigan_5yr_meantrend, color='black', label='SAT score')\n",
    "plt.title('Mean SAT Scores for Michigan from 2017-2021')\n",
    "plt.xlabel('Academic Year')\n",
    "plt.axhline(y=(sum(Michigan_5yr_meantrend)/5), label='average score')\n",
    "plt.legend()\n",
    "plt.ylabel('Score')\n",
    "plt.xticks(np.arange(2017, 2022, step=1))\n",
    "plt.savefig('michigan.png')"
   ]
  },
  {
   "cell_type": "code",
   "execution_count": 223,
   "metadata": {},
   "outputs": [
    {
     "data": {
      "text/plain": [
       "1009.6"
      ]
     },
     "execution_count": 223,
     "metadata": {},
     "output_type": "execute_result"
    }
   ],
   "source": [
    "average_Michigan = sum(Michigan_5yr_meantrend)/5\n",
    "average_Michigan"
   ]
  },
  {
   "cell_type": "code",
   "execution_count": 70,
   "metadata": {},
   "outputs": [
    {
     "data": {
      "text/plain": [
       "[1005, 1011, 1003, 998, 1031]"
      ]
     },
     "execution_count": 70,
     "metadata": {},
     "output_type": "execute_result"
    }
   ],
   "source": [
    "Michigan_5yr_meantrend"
   ]
  },
  {
   "cell_type": "markdown",
   "metadata": {},
   "source": [
    "## Conclusions and Recommendations"
   ]
  },
  {
   "cell_type": "markdown",
   "metadata": {},
   "source": [
    "Based on your exploration of the data, what are you key takeaways and recommendations? Make sure to answer your question of interest or address your problem statement here."
   ]
  },
  {
   "cell_type": "markdown",
   "metadata": {},
   "source": [
    "Based on my exploration of the data, there are some trends that I noticed after visualizing the data. \n",
    "- I found that the students of Delaware, Connecticut, and Michigan are most likely to take SAT as their college entrance test than the ACT. Among the three states, Connecticut students also tend to perform better than students of the other two states. \n",
    "- When we look at the SAT scores for all the states that participated, Minnesota, Wisconsin, Iowa, Missouri, and Kansas achieved the top 5 highest means SAT scores from 2017 to 2019. \n",
    "- With the resources from collegeboard.org, I was able to import SAT scores by State for the years 2020 and 2021. The trend of the SAT scores demonstrated that Covid-19 has negatively impacted students' SAT performances. However, that gap was soon recovered after school resumed to open.  \n",
    "- Based on the result of data analysis, I recommend colleges continue to consider SAT performances as a measure of students' college readiness after 2021 because going to school is positively correlated with better SAT scores. "
   ]
  }
 ],
 "metadata": {
  "anaconda-cloud": {},
  "kernelspec": {
   "display_name": "Python 3",
   "language": "python",
   "name": "python3"
  },
  "language_info": {
   "codemirror_mode": {
    "name": "ipython",
    "version": 3
   },
   "file_extension": ".py",
   "mimetype": "text/x-python",
   "name": "python",
   "nbconvert_exporter": "python",
   "pygments_lexer": "ipython3",
   "version": "3.9.4"
  }
 },
 "nbformat": 4,
 "nbformat_minor": 4
}
